{
  "nbformat": 4,
  "nbformat_minor": 0,
  "metadata": {
    "colab": {
      "name": "brazilian coin detector - fine tuning.ipynb",
      "provenance": [],
      "collapsed_sections": []
    },
    "kernelspec": {
      "name": "python3",
      "display_name": "Python 3"
    },
    "accelerator": "GPU"
  },
  "cells": [
    {
      "cell_type": "code",
      "metadata": {
        "id": "k6tpV55z7yfP",
        "colab_type": "code",
        "colab": {
          "base_uri": "https://localhost:8080/",
          "height": 34
        },
        "outputId": "0c0e3c1b-c276-4b2d-a35c-e8051d07ec3a"
      },
      "source": [
        "!git clone https://github.com/victorgfb/brazilian-coin-detector.git"
      ],
      "execution_count": 1074,
      "outputs": [
        {
          "output_type": "stream",
          "text": [
            "fatal: destination path 'brazilian-coin-detector' already exists and is not an empty directory.\n"
          ],
          "name": "stdout"
        }
      ]
    },
    {
      "cell_type": "code",
      "metadata": {
        "id": "p7LoPrT5vYTE",
        "colab_type": "code",
        "colab": {}
      },
      "source": [
        "from tensorflow.keras.preprocessing.image import ImageDataGenerator\n",
        "import tensorflow as tf\n",
        "from skimage import data, exposure, img_as_float"
      ],
      "execution_count": 1075,
      "outputs": []
    },
    {
      "cell_type": "code",
      "metadata": {
        "id": "HYIc4X7uxegW",
        "colab_type": "code",
        "colab": {}
      },
      "source": [
        "data_dir = \"brazilian-coin-detector/newDataset/coins\""
      ],
      "execution_count": 1076,
      "outputs": []
    },
    {
      "cell_type": "code",
      "metadata": {
        "id": "ZYZG71FzwbPt",
        "colab_type": "code",
        "colab": {}
      },
      "source": [
        "\n",
        "data_gen = ImageDataGenerator(rescale=1/255. , horizontal_flip=True, vertical_flip = True, validation_split=0.2)"
      ],
      "execution_count": 1077,
      "outputs": []
    },
    {
      "cell_type": "code",
      "metadata": {
        "id": "PkXotuUJxdRF",
        "colab_type": "code",
        "colab": {
          "base_uri": "https://localhost:8080/",
          "height": 51
        },
        "outputId": "d1d4bf3a-8db5-4b15-8694-a775f4de24e4"
      },
      "source": [
        "train_generator = data_gen.flow_from_directory(data_dir, target_size=(96,96), class_mode=\"categorical\", shuffle=True, subset = 'training')\n",
        "test_generator = data_gen.flow_from_directory(data_dir,target_size=(96,96), class_mode=\"categorical\", shuffle=True, subset = 'validation')"
      ],
      "execution_count": 1078,
      "outputs": [
        {
          "output_type": "stream",
          "text": [
            "Found 1969 images belonging to 5 classes.\n",
            "Found 489 images belonging to 5 classes.\n"
          ],
          "name": "stdout"
        }
      ]
    },
    {
      "cell_type": "code",
      "metadata": {
        "id": "Omrz6_uhG6Qf",
        "colab_type": "code",
        "colab": {}
      },
      "source": [
        "img_shape = (96, 96, 3)"
      ],
      "execution_count": 1079,
      "outputs": []
    },
    {
      "cell_type": "code",
      "metadata": {
        "id": "xTH-iLW7GHn-",
        "colab_type": "code",
        "colab": {}
      },
      "source": [
        "# base_model = tf.keras.applications.MobileNetV2(input_shape = img_shape, \n",
        "#                                                include_top = False,\n",
        "#                                                weights = \"imagenet\")"
      ],
      "execution_count": 1080,
      "outputs": []
    },
    {
      "cell_type": "code",
      "metadata": {
        "id": "Du4_drLYQsjk",
        "colab_type": "code",
        "colab": {}
      },
      "source": [
        "base_model = tf.keras.applications.ResNet50V2(input_shape = img_shape, \n",
        "                                               include_top = False,\n",
        "                                               weights = \"imagenet\")"
      ],
      "execution_count": 1081,
      "outputs": []
    },
    {
      "cell_type": "code",
      "metadata": {
        "id": "zSow9iFxfOTk",
        "colab_type": "code",
        "colab": {}
      },
      "source": [
        "# base_model = tf.keras.applications.VGG16(input_shape = img_shape, \n",
        "#                                                include_top = False,\n",
        "#                                                weights = \"imagenet\")"
      ],
      "execution_count": 1082,
      "outputs": []
    },
    {
      "cell_type": "code",
      "metadata": {
        "id": "7oypJcCn1GXk",
        "colab_type": "code",
        "colab": {}
      },
      "source": [
        "# base_model.summary()"
      ],
      "execution_count": 1083,
      "outputs": []
    },
    {
      "cell_type": "code",
      "metadata": {
        "id": "fscH8xV_x9z4",
        "colab_type": "code",
        "colab": {}
      },
      "source": [
        "model = tf.keras.Sequential()"
      ],
      "execution_count": 1084,
      "outputs": []
    },
    {
      "cell_type": "code",
      "metadata": {
        "id": "fkhXqOBUIreH",
        "colab_type": "code",
        "colab": {}
      },
      "source": [
        "model.add(base_model)\n",
        "# model.add(tf.keras.layers.Flatten(name=\"flatten\"))\n",
        "model.add(tf.keras.layers.GlobalAveragePooling2D())\n",
        "model.add(tf.keras.layers.Dense(120, activation='relu'))\n",
        "model.add(tf.keras.layers.Dropout(0.25))\n",
        "model.add(tf.keras.layers.Dense(120, activation='relu'))\n",
        "model.add(tf.keras.layers.Dropout(0.25))\n",
        "# model.add(tf.keras.layers.Dense(60, activation='relu'))\n",
        "# model.add(tf.keras.layers.Dropout(0.25))\n",
        "model.add(tf.keras.layers.Dense(5, activation='softmax'))"
      ],
      "execution_count": 1085,
      "outputs": []
    },
    {
      "cell_type": "code",
      "metadata": {
        "id": "ce3IBku9elzi",
        "colab_type": "code",
        "colab": {}
      },
      "source": [
        ""
      ],
      "execution_count": 1085,
      "outputs": []
    },
    {
      "cell_type": "code",
      "metadata": {
        "id": "5bo_cmue7Trp",
        "colab_type": "code",
        "colab": {
          "base_uri": "https://localhost:8080/",
          "height": 34
        },
        "outputId": "ca9e63d5-6e51-4610-fbd7-cf61593ecb20"
      },
      "source": [
        "len(model.predict(test_generator))"
      ],
      "execution_count": 1086,
      "outputs": [
        {
          "output_type": "execute_result",
          "data": {
            "text/plain": [
              "489"
            ]
          },
          "metadata": {
            "tags": []
          },
          "execution_count": 1086
        }
      ]
    },
    {
      "cell_type": "code",
      "metadata": {
        "id": "UNLBY8n-1UQi",
        "colab_type": "code",
        "colab": {
          "base_uri": "https://localhost:8080/",
          "height": 391
        },
        "outputId": "a732c034-c1ae-4f76-edd2-90263be64940"
      },
      "source": [
        "model.summary()"
      ],
      "execution_count": 1087,
      "outputs": [
        {
          "output_type": "stream",
          "text": [
            "Model: \"sequential_28\"\n",
            "_________________________________________________________________\n",
            "Layer (type)                 Output Shape              Param #   \n",
            "=================================================================\n",
            "resnet50v2 (Functional)      (None, 3, 3, 2048)        23564800  \n",
            "_________________________________________________________________\n",
            "global_average_pooling2d_28  (None, 2048)              0         \n",
            "_________________________________________________________________\n",
            "dense_93 (Dense)             (None, 120)               245880    \n",
            "_________________________________________________________________\n",
            "dropout_65 (Dropout)         (None, 120)               0         \n",
            "_________________________________________________________________\n",
            "dense_94 (Dense)             (None, 120)               14520     \n",
            "_________________________________________________________________\n",
            "dropout_66 (Dropout)         (None, 120)               0         \n",
            "_________________________________________________________________\n",
            "dense_95 (Dense)             (None, 5)                 605       \n",
            "=================================================================\n",
            "Total params: 23,825,805\n",
            "Trainable params: 23,780,365\n",
            "Non-trainable params: 45,440\n",
            "_________________________________________________________________\n"
          ],
          "name": "stdout"
        }
      ]
    },
    {
      "cell_type": "code",
      "metadata": {
        "id": "ARLZQBsxx6dC",
        "colab_type": "code",
        "colab": {}
      },
      "source": [
        "# model.add(base_model)\n",
        "# model.add(tf.keras.layers.Flatten(name=\"flatten\"))\n",
        "# model.add(tf.keras.layers.Dense(256, activation=\"relu\"))\n",
        "# model.add(tf.keras.layers.Dropout(0.2))\n",
        "# model.add(tf.keras.layers.Dense(256, activation=\"relu\"))\n",
        "# model.add(tf.keras.layers.Dropout(0.2))\n",
        "# model.add(tf.keras.layers.Dense(5, activation=\"softmax\"))"
      ],
      "execution_count": 1088,
      "outputs": []
    },
    {
      "cell_type": "code",
      "metadata": {
        "id": "EgC57kRhPsAx",
        "colab_type": "code",
        "colab": {
          "base_uri": "https://localhost:8080/",
          "height": 34
        },
        "outputId": "753bd192-457f-40cc-e7c9-2c3632b1ea83"
      },
      "source": [
        "len(base_model.layers)"
      ],
      "execution_count": 1089,
      "outputs": [
        {
          "output_type": "execute_result",
          "data": {
            "text/plain": [
              "190"
            ]
          },
          "metadata": {
            "tags": []
          },
          "execution_count": 1089
        }
      ]
    },
    {
      "cell_type": "code",
      "metadata": {
        "id": "KWGcsgLSHGou",
        "colab_type": "code",
        "colab": {}
      },
      "source": [
        "base_model.trainable = True"
      ],
      "execution_count": 1090,
      "outputs": []
    },
    {
      "cell_type": "code",
      "metadata": {
        "id": "hwhebKbDP5F8",
        "colab_type": "code",
        "colab": {}
      },
      "source": [
        "fine_tuning_at = 25"
      ],
      "execution_count": 1091,
      "outputs": []
    },
    {
      "cell_type": "code",
      "metadata": {
        "id": "Qoq0CN6VHTBk",
        "colab_type": "code",
        "colab": {}
      },
      "source": [
        "for layer in base_model.layers[:fine_tuning_at]:\n",
        "  layer.trainable = False"
      ],
      "execution_count": 1092,
      "outputs": []
    },
    {
      "cell_type": "code",
      "metadata": {
        "id": "ug-ofHL4gxSF",
        "colab_type": "code",
        "colab": {}
      },
      "source": [
        "callback = tf.keras.callbacks.EarlyStopping(patience = 3)"
      ],
      "execution_count": 1093,
      "outputs": []
    },
    {
      "cell_type": "code",
      "metadata": {
        "id": "BXAMP6sKvkYJ",
        "colab_type": "code",
        "colab": {}
      },
      "source": [
        "optimizer = tf.keras.optimizers.SGD(lr=1e-3, momentum=0.9)\n",
        "# optimizer = tf.keras.optimizers.Adam(learning_rate=1e-3)"
      ],
      "execution_count": 1094,
      "outputs": []
    },
    {
      "cell_type": "code",
      "metadata": {
        "id": "apX7gl-PnsOd",
        "colab_type": "code",
        "colab": {}
      },
      "source": [
        "# lr_schedule = 0.001"
      ],
      "execution_count": 1095,
      "outputs": []
    },
    {
      "cell_type": "code",
      "metadata": {
        "id": "TrqLDygZrdSE",
        "colab_type": "code",
        "colab": {}
      },
      "source": [
        "loss = tf.keras.losses.CategoricalCrossentropy()\n",
        "# loss = softmax_cross_entropy_with_logits\n",
        "# loss=tf.keras.losses.SparseCategoricalCrossentropy()"
      ],
      "execution_count": 1096,
      "outputs": []
    },
    {
      "cell_type": "code",
      "metadata": {
        "id": "t20PeadjQJma",
        "colab_type": "code",
        "colab": {}
      },
      "source": [
        "model.compile(optimizer=optimizer, loss = loss, metrics=['categorical_accuracy'])"
      ],
      "execution_count": 1097,
      "outputs": []
    },
    {
      "cell_type": "code",
      "metadata": {
        "id": "LC8LsRtVQnnm",
        "colab_type": "code",
        "colab": {
          "base_uri": "https://localhost:8080/",
          "height": 207
        },
        "outputId": "49e0a201-f50d-41e9-b697-25a0872c1989"
      },
      "source": [
        "history = model.fit(train_generator, epochs=5, validation_data=test_generator, callbacks=[callback])"
      ],
      "execution_count": 1098,
      "outputs": [
        {
          "output_type": "stream",
          "text": [
            "Epoch 1/5\n",
            "62/62 [==============================] - 12s 194ms/step - loss: 1.1863 - categorical_accuracy: 0.5175 - val_loss: 0.8305 - val_categorical_accuracy: 0.6462\n",
            "Epoch 2/5\n",
            "62/62 [==============================] - 11s 178ms/step - loss: 0.3627 - categorical_accuracy: 0.8949 - val_loss: 0.7354 - val_categorical_accuracy: 0.7526\n",
            "Epoch 3/5\n",
            "62/62 [==============================] - 11s 178ms/step - loss: 0.1791 - categorical_accuracy: 0.9492 - val_loss: 0.3903 - val_categorical_accuracy: 0.8875\n",
            "Epoch 4/5\n",
            "62/62 [==============================] - 11s 177ms/step - loss: 0.1084 - categorical_accuracy: 0.9746 - val_loss: 0.3996 - val_categorical_accuracy: 0.8630\n",
            "Epoch 5/5\n",
            "62/62 [==============================] - 11s 178ms/step - loss: 0.0783 - categorical_accuracy: 0.9761 - val_loss: 0.2995 - val_categorical_accuracy: 0.9182\n"
          ],
          "name": "stdout"
        }
      ]
    },
    {
      "cell_type": "code",
      "metadata": {
        "id": "WK4d4j7F28zZ",
        "colab_type": "code",
        "colab": {}
      },
      "source": [
        "model.save('my_model.h5')"
      ],
      "execution_count": 1099,
      "outputs": []
    },
    {
      "cell_type": "code",
      "metadata": {
        "id": "lxuM0oKo4Xix",
        "colab_type": "code",
        "colab": {}
      },
      "source": [
        "import cv2\n",
        "import numpy as np\n",
        "img = cv2.imread(\"2.jpg\")\n",
        "im_rgb = cv2.cvtColor(img, cv2.COLOR_BGR2RGB)"
      ],
      "execution_count": 1118,
      "outputs": []
    },
    {
      "cell_type": "code",
      "metadata": {
        "id": "DVWB1DHOAdby",
        "colab_type": "code",
        "colab": {}
      },
      "source": [
        "img_res = cv2.resize(im_rgb, (96,96))"
      ],
      "execution_count": 1119,
      "outputs": []
    },
    {
      "cell_type": "code",
      "metadata": {
        "id": "vE9G8h7D_H8H",
        "colab_type": "code",
        "colab": {}
      },
      "source": [
        "norm_img = img_res/255"
      ],
      "execution_count": 1120,
      "outputs": []
    },
    {
      "cell_type": "code",
      "metadata": {
        "id": "pmsecXC8_d9m",
        "colab_type": "code",
        "colab": {}
      },
      "source": [
        "np_img = np.expand_dims(norm_img, axis=0)"
      ],
      "execution_count": 1121,
      "outputs": []
    },
    {
      "cell_type": "code",
      "metadata": {
        "id": "oqdbHMYk5B99",
        "colab_type": "code",
        "colab": {}
      },
      "source": [
        "test = model.predict(np_img)"
      ],
      "execution_count": 1122,
      "outputs": []
    },
    {
      "cell_type": "code",
      "metadata": {
        "id": "9XqGlNwi-CAe",
        "colab_type": "code",
        "colab": {
          "base_uri": "https://localhost:8080/",
          "height": 51
        },
        "outputId": "41d6a9c9-dd7c-417c-857a-cb0a24728eb8"
      },
      "source": [
        "test"
      ],
      "execution_count": 1123,
      "outputs": [
        {
          "output_type": "execute_result",
          "data": {
            "text/plain": [
              "array([[1.4039830e-06, 4.6254995e-06, 9.9999130e-01, 2.0816196e-06,\n",
              "        5.5493689e-07]], dtype=float32)"
            ]
          },
          "metadata": {
            "tags": []
          },
          "execution_count": 1123
        }
      ]
    },
    {
      "cell_type": "code",
      "metadata": {
        "id": "W4HW8nHl9sUB",
        "colab_type": "code",
        "colab": {}
      },
      "source": [
        "coinsType = list(test_generator.class_indices.keys())"
      ],
      "execution_count": 1124,
      "outputs": []
    },
    {
      "cell_type": "code",
      "metadata": {
        "id": "UdNqKQkQjiay",
        "colab_type": "code",
        "colab": {
          "base_uri": "https://localhost:8080/",
          "height": 35
        },
        "outputId": "39e2bfbe-4434-4a76-d127-22e68753904c"
      },
      "source": [
        "coinsType[int(np.argmax(test, axis=1))]"
      ],
      "execution_count": 1125,
      "outputs": [
        {
          "output_type": "execute_result",
          "data": {
            "application/vnd.google.colaboratory.intrinsic+json": {
              "type": "string"
            },
            "text/plain": [
              "'25'"
            ]
          },
          "metadata": {
            "tags": []
          },
          "execution_count": 1125
        }
      ]
    },
    {
      "cell_type": "code",
      "metadata": {
        "id": "draSbH-dOr8I",
        "colab_type": "code",
        "colab": {
          "base_uri": "https://localhost:8080/",
          "height": 34
        },
        "outputId": "ded763ed-ae95-426f-cabb-45ceb2bf52b3"
      },
      "source": [
        "test_generator.class_indices.keys()"
      ],
      "execution_count": 1126,
      "outputs": [
        {
          "output_type": "execute_result",
          "data": {
            "text/plain": [
              "dict_keys(['10', '100', '25', '5', '50'])"
            ]
          },
          "metadata": {
            "tags": []
          },
          "execution_count": 1126
        }
      ]
    },
    {
      "cell_type": "markdown",
      "metadata": {
        "id": "9OKiOvaOKNGT",
        "colab_type": "text"
      },
      "source": [
        "TODO\n",
        "\n",
        "colocar para plotar grafico de aprendizado\n"
      ]
    }
  ]
}